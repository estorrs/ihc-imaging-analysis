{
 "cells": [
  {
   "cell_type": "code",
   "execution_count": 15,
   "metadata": {},
   "outputs": [],
   "source": [
    "from pathlib import Path\n",
    "import os\n",
    "import re\n",
    "import shutil\n",
    "\n",
    "import mgitools.os_helpers as os_helpers"
   ]
  },
  {
   "cell_type": "code",
   "execution_count": 16,
   "metadata": {},
   "outputs": [],
   "source": [
    "ome_dir = '/Volumes/timmy/ding/HTAN/imaging/data/ome-tiff/'\n",
    "target_dir = '/Volumes/timmy/ding/HTAN/imaging/data/ome_tiff_individual_32bit'\n",
    "\n",
    "Path(target_dir).mkdir(parents=True, exist_ok=True)"
   ]
  },
  {
   "cell_type": "code",
   "execution_count": 17,
   "metadata": {},
   "outputs": [
    {
     "data": {
      "text/plain": [
       "(116,\n",
       " ['/Volumes/timmy/ding/HTAN/imaging/data/ome-tiff/HT055P1 PA A1 A4/ROI001_ROI 01/ROI001_ROI 01.ome.tiff',\n",
       "  '/Volumes/timmy/ding/HTAN/imaging/data/ome-tiff/HT055P1 PA A1 A4/ROI002_ROI 02/ROI002_ROI 02.ome.tiff',\n",
       "  '/Volumes/timmy/ding/HTAN/imaging/data/ome-tiff/HT055P1 PA A1 A4/ROI003_ROI 03/ROI003_ROI 03.ome.tiff',\n",
       "  '/Volumes/timmy/ding/HTAN/imaging/data/ome-tiff/HT055P1 PA A1 A4/ROI004_ROI 04/ROI004_ROI 04.ome.tiff',\n",
       "  '/Volumes/timmy/ding/HTAN/imaging/data/ome-tiff/HT055P1 PA A1 A4/ROI005_ROI 05/ROI005_ROI 05.ome.tiff'])"
      ]
     },
     "execution_count": 17,
     "metadata": {},
     "output_type": "execute_result"
    }
   ],
   "source": [
    "fps = sorted(os_helpers.listfiles(ome_dir, regex='.tiff$'))\n",
    "len(fps), fps[:5]"
   ]
  },
  {
   "cell_type": "code",
   "execution_count": 18,
   "metadata": {},
   "outputs": [
    {
     "data": {
      "text/plain": [
       "['/Volumes/timmy/ding/HTAN/imaging/data/ome-tiff/HT055P1 PA A1 A4/ROI001_ROI 01/ROI001_ROI 01.ome.tiff',\n",
       " '/Volumes/timmy/ding/HTAN/imaging/data/ome-tiff/HT055P1 PA A1 A4/ROI002_ROI 02/ROI002_ROI 02.ome.tiff',\n",
       " '/Volumes/timmy/ding/HTAN/imaging/data/ome-tiff/HT055P1 PA A1 A4/ROI003_ROI 03/ROI003_ROI 03.ome.tiff',\n",
       " '/Volumes/timmy/ding/HTAN/imaging/data/ome-tiff/HT055P1 PA A1 A4/ROI004_ROI 04/ROI004_ROI 04.ome.tiff',\n",
       " '/Volumes/timmy/ding/HTAN/imaging/data/ome-tiff/HT055P1 PA A1 A4/ROI005_ROI 05/ROI005_ROI 05.ome.tiff',\n",
       " '/Volumes/timmy/ding/HTAN/imaging/data/ome-tiff/HT056P1 PA A1 A4/ROI001_ROI 01/ROI001_ROI 01.ome.tiff',\n",
       " '/Volumes/timmy/ding/HTAN/imaging/data/ome-tiff/HT056P1 PA A1 A4/ROI002_ROI 02/ROI002_ROI 02.ome.tiff',\n",
       " '/Volumes/timmy/ding/HTAN/imaging/data/ome-tiff/HT056P1 PA A1 A4/ROI003_ROI 03/ROI003_ROI 03.ome.tiff',\n",
       " '/Volumes/timmy/ding/HTAN/imaging/data/ome-tiff/HT056P1 PB A1 A4/ROI001_ROI 01/ROI001_ROI 01.ome.tiff',\n",
       " '/Volumes/timmy/ding/HTAN/imaging/data/ome-tiff/HT056P1 PB A1 A4/ROI002_ROI 02/ROI002_ROI 02.ome.tiff',\n",
       " '/Volumes/timmy/ding/HTAN/imaging/data/ome-tiff/HT056P1 PB A1 A4/ROI003_ROI 03/ROI003_ROI 03.ome.tiff',\n",
       " '/Volumes/timmy/ding/HTAN/imaging/data/ome-tiff/HT056P1 PB A1 A4/ROI004_ROI 04/ROI004_ROI 04.ome.tiff',\n",
       " '/Volumes/timmy/ding/HTAN/imaging/data/ome-tiff/HT056P1 PB A1 A4/ROI005_ROI 05/ROI005_ROI 05.ome.tiff',\n",
       " '/Volumes/timmy/ding/HTAN/imaging/data/ome-tiff/HT060P1 PA A1 A4/ROI001_ROI 01/ROI001_ROI 01.ome.tiff',\n",
       " '/Volumes/timmy/ding/HTAN/imaging/data/ome-tiff/HT060P1 PA A1 A4/ROI002_ROI 02/ROI002_ROI 02.ome.tiff',\n",
       " '/Volumes/timmy/ding/HTAN/imaging/data/ome-tiff/HT060P1 PA A1 A4/ROI003_ROI 03/ROI003_ROI 03.ome.tiff',\n",
       " '/Volumes/timmy/ding/HTAN/imaging/data/ome-tiff/HT060P1 PB A1 A4/ROI001_ROI 01/ROI001_ROI 01.ome.tiff',\n",
       " '/Volumes/timmy/ding/HTAN/imaging/data/ome-tiff/HT060P1 PB A1 A4/ROI004_ROI 04/ROI004_ROI 04.ome.tiff',\n",
       " '/Volumes/timmy/ding/HTAN/imaging/data/ome-tiff/HT060P1 PB A1 A4/ROI005_ROI 05/ROI005_ROI 05.ome.tiff',\n",
       " '/Volumes/timmy/ding/HTAN/imaging/data/ome-tiff/HT060P1 PB A1 A4/ROI006_ROI 06/ROI006_ROI 06.ome.tiff',\n",
       " '/Volumes/timmy/ding/HTAN/imaging/data/ome-tiff/HT060P1 PB A1 A4/ROI007_ROI 02/ROI007_ROI 02.ome.tiff',\n",
       " '/Volumes/timmy/ding/HTAN/imaging/data/ome-tiff/HT060P1 REMAIN/ROI001_ROI 01/ROI001_ROI 01.ome.tiff',\n",
       " '/Volumes/timmy/ding/HTAN/imaging/data/ome-tiff/HT060P1 REMAIN/ROI002_ROI 02/ROI002_ROI 02.ome.tiff',\n",
       " '/Volumes/timmy/ding/HTAN/imaging/data/ome-tiff/HT060P1 REMAIN/ROI003_ROI 03/ROI003_ROI 03.ome.tiff',\n",
       " '/Volumes/timmy/ding/HTAN/imaging/data/ome-tiff/HT060P1 REMAIN/ROI004_ROI 04/ROI004_ROI 04.ome.tiff',\n",
       " '/Volumes/timmy/ding/HTAN/imaging/data/ome-tiff/HT061P1 PA A1 A4/ROI001_ROI 01/ROI001_ROI 01.ome.tiff',\n",
       " '/Volumes/timmy/ding/HTAN/imaging/data/ome-tiff/HT061P1 PA A1 A4/ROI003_ROI 03/ROI003_ROI 03.ome.tiff',\n",
       " '/Volumes/timmy/ding/HTAN/imaging/data/ome-tiff/HT061P1 PA A1 A4/ROI004_ROI 02/ROI004_ROI 02.ome.tiff',\n",
       " '/Volumes/timmy/ding/HTAN/imaging/data/ome-tiff/HT061P1 PB A1 A4/ROI001_ROI 01/ROI001_ROI 01.ome.tiff',\n",
       " '/Volumes/timmy/ding/HTAN/imaging/data/ome-tiff/HT061P1 PB A1 A4/ROI002_ROI 02/ROI002_ROI 02.ome.tiff',\n",
       " '/Volumes/timmy/ding/HTAN/imaging/data/ome-tiff/HT061P1 PB A1 A4/ROI003_ROI 03/ROI003_ROI 03.ome.tiff',\n",
       " '/Volumes/timmy/ding/HTAN/imaging/data/ome-tiff/HT061P1 PC A1 A4/ROI001_ROI 01/ROI001_ROI 01.ome.tiff',\n",
       " '/Volumes/timmy/ding/HTAN/imaging/data/ome-tiff/HT061P1 PC A1 A4/ROI002_ROI 02/ROI002_ROI 02.ome.tiff',\n",
       " '/Volumes/timmy/ding/HTAN/imaging/data/ome-tiff/HT061P1 PC A1 A4/ROI003_ROI 03/ROI003_ROI 03.ome.tiff',\n",
       " '/Volumes/timmy/ding/HTAN/imaging/data/ome-tiff/HT062B1 PA/ROI001_ROI 01/ROI001_ROI 01.ome.tiff',\n",
       " '/Volumes/timmy/ding/HTAN/imaging/data/ome-tiff/HT062B1 PA/ROI002_ROI 02/ROI002_ROI 02.ome.tiff',\n",
       " '/Volumes/timmy/ding/HTAN/imaging/data/ome-tiff/HT062B1 PA/ROI003_ROI 03/ROI003_ROI 03.ome.tiff',\n",
       " '/Volumes/timmy/ding/HTAN/imaging/data/ome-tiff/HT062B1 PB A1 A4/ROI002_ROI 01/ROI002_ROI 01.ome.tiff',\n",
       " '/Volumes/timmy/ding/HTAN/imaging/data/ome-tiff/HT062B1 PB A1 A4/ROI003_ROI 02/ROI003_ROI 02.ome.tiff',\n",
       " '/Volumes/timmy/ding/HTAN/imaging/data/ome-tiff/HT062B1 PB A1 A4/ROI004_ROI 03/ROI004_ROI 03.ome.tiff',\n",
       " '/Volumes/timmy/ding/HTAN/imaging/data/ome-tiff/HT062B1 PB A1 A4/ROI005_ROI 04/ROI005_ROI 04.ome.tiff',\n",
       " '/Volumes/timmy/ding/HTAN/imaging/data/ome-tiff/HT064B1 H1 A1 A4/ROI001_ROI 01/ROI001_ROI 01.ome.tiff',\n",
       " '/Volumes/timmy/ding/HTAN/imaging/data/ome-tiff/HT064B1 H1 A1 A4/ROI002_ROI 02/ROI002_ROI 02.ome.tiff',\n",
       " '/Volumes/timmy/ding/HTAN/imaging/data/ome-tiff/HT064B1 H1 A1 A4/ROI003_ROI 03/ROI003_ROI 03.ome.tiff',\n",
       " '/Volumes/timmy/ding/HTAN/imaging/data/ome-tiff/HT064B1 H1 A1 A4/ROI004_ROI 04/ROI004_ROI 04.ome.tiff',\n",
       " '/Volumes/timmy/ding/HTAN/imaging/data/ome-tiff/HT064B1 H7 A1 A4/ROI001_ROI 01/ROI001_ROI 01.ome.tiff',\n",
       " '/Volumes/timmy/ding/HTAN/imaging/data/ome-tiff/HT064B1 H7 A1 A4/ROI002_ROI 02/ROI002_ROI 02.ome.tiff',\n",
       " '/Volumes/timmy/ding/HTAN/imaging/data/ome-tiff/HT064B1 H7 A1 A4/ROI003_ROI 03/ROI003_ROI 03.ome.tiff',\n",
       " '/Volumes/timmy/ding/HTAN/imaging/data/ome-tiff/HT064B1 H9 A1 A4/ROI002_ROI 01/ROI002_ROI 01.ome.tiff',\n",
       " '/Volumes/timmy/ding/HTAN/imaging/data/ome-tiff/HT064B1 H9 A1 A4/ROI003_ROI 02/ROI003_ROI 02.ome.tiff',\n",
       " '/Volumes/timmy/ding/HTAN/imaging/data/ome-tiff/HT065B1 H1 A1/ROI001_ROI 01/ROI001_ROI 01.ome.tiff',\n",
       " '/Volumes/timmy/ding/HTAN/imaging/data/ome-tiff/HT065B1 H1 A1/ROI002_ROI 02/ROI002_ROI 02.ome.tiff',\n",
       " '/Volumes/timmy/ding/HTAN/imaging/data/ome-tiff/HT065B1 H1 A1/ROI003_ROI 03/ROI003_ROI 03.ome.tiff',\n",
       " '/Volumes/timmy/ding/HTAN/imaging/data/ome-tiff/HT065B1 H1 A4/ROI001_ROI 01/ROI001_ROI 01.ome.tiff',\n",
       " '/Volumes/timmy/ding/HTAN/imaging/data/ome-tiff/HT065B1 H1 A4/ROI002_ROI 02/ROI002_ROI 02.ome.tiff',\n",
       " '/Volumes/timmy/ding/HTAN/imaging/data/ome-tiff/HT065B1 H3 A1 A4/ROI001_ROI 01/ROI001_ROI 01.ome.tiff',\n",
       " '/Volumes/timmy/ding/HTAN/imaging/data/ome-tiff/HT065B1 H3 A1 A4/ROI002_ROI 02/ROI002_ROI 02.ome.tiff',\n",
       " '/Volumes/timmy/ding/HTAN/imaging/data/ome-tiff/HT065B1 H3 A1 A4/ROI003_ROI 03/ROI003_ROI 03.ome.tiff',\n",
       " '/Volumes/timmy/ding/HTAN/imaging/data/ome-tiff/HT065B1 H7 A1 A4/ROI001_ROI 01/ROI001_ROI 01.ome.tiff',\n",
       " '/Volumes/timmy/ding/HTAN/imaging/data/ome-tiff/HT065B1 H7 A1 A4/ROI002_ROI 02/ROI002_ROI 02.ome.tiff',\n",
       " '/Volumes/timmy/ding/HTAN/imaging/data/ome-tiff/HT068B1 H1/ROI001_ROI 01/ROI001_ROI 01.ome.tiff',\n",
       " '/Volumes/timmy/ding/HTAN/imaging/data/ome-tiff/HT068B1 H1/ROI002_ROI 02/ROI002_ROI 02.ome.tiff',\n",
       " '/Volumes/timmy/ding/HTAN/imaging/data/ome-tiff/HT068B1 H1/ROI003_ROI 03/ROI003_ROI 03.ome.tiff',\n",
       " '/Volumes/timmy/ding/HTAN/imaging/data/ome-tiff/HT068B1 H2/ROI001_ROI 01/ROI001_ROI 01.ome.tiff',\n",
       " '/Volumes/timmy/ding/HTAN/imaging/data/ome-tiff/HT068B1 H2/ROI002_ROI 02/ROI002_ROI 02.ome.tiff',\n",
       " '/Volumes/timmy/ding/HTAN/imaging/data/ome-tiff/HT068B1 H2/ROI003_ROI 03/ROI003_ROI 03.ome.tiff',\n",
       " '/Volumes/timmy/ding/HTAN/imaging/data/ome-tiff/HT068B1 H2/ROI004_ROI 04/ROI004_ROI 04.ome.tiff',\n",
       " '/Volumes/timmy/ding/HTAN/imaging/data/ome-tiff/HT068B1 H2/ROI005_ROI 05/ROI005_ROI 05.ome.tiff',\n",
       " '/Volumes/timmy/ding/HTAN/imaging/data/ome-tiff/HT069B1 H9 A1 A4/ROI001_ROI 01/ROI001_ROI 01.ome.tiff',\n",
       " '/Volumes/timmy/ding/HTAN/imaging/data/ome-tiff/HT069B1 H9 A1 A4/ROI002_ROI 02/ROI002_ROI 02.ome.tiff',\n",
       " '/Volumes/timmy/ding/HTAN/imaging/data/ome-tiff/HT069B1 H9 A1 A4/ROI003_ROI 03/ROI003_ROI 03.ome.tiff',\n",
       " '/Volumes/timmy/ding/HTAN/imaging/data/ome-tiff/HT081B1 H5 A1/ROI001_ROI 01/ROI001_ROI 01.ome.tiff',\n",
       " '/Volumes/timmy/ding/HTAN/imaging/data/ome-tiff/HT081B1 H5 A1/ROI002_ROI 02/ROI002_ROI 02.ome.tiff',\n",
       " '/Volumes/timmy/ding/HTAN/imaging/data/ome-tiff/HT081B1 H5 A4/ROI001_ROI 01/ROI001_ROI 01.ome.tiff',\n",
       " '/Volumes/timmy/ding/HTAN/imaging/data/ome-tiff/HT081B1 H5 A4/ROI002_ROI 02/ROI002_ROI 02.ome.tiff',\n",
       " '/Volumes/timmy/ding/HTAN/imaging/data/ome-tiff/HT081B1 H5 A4/ROI003_ROI 03/ROI003_ROI 03.ome.tiff',\n",
       " '/Volumes/timmy/ding/HTAN/imaging/data/ome-tiff/HT081B1 H5 A4/ROI004_ROI 04/ROI004_ROI 04.ome.tiff',\n",
       " '/Volumes/timmy/ding/HTAN/imaging/data/ome-tiff/HTAN HT122P1 S1H3 L1 L4/ROI001_ROI_001/ROI001_ROI_001.ome.tiff',\n",
       " '/Volumes/timmy/ding/HTAN/imaging/data/ome-tiff/HTAN HT122P1 S1H3 L1 L4/ROI002_ROI_002/ROI002_ROI_002.ome.tiff',\n",
       " '/Volumes/timmy/ding/HTAN/imaging/data/ome-tiff/HTAN HT122P1 S1H3 L1 L4/ROI003_ROI_003/ROI003_ROI_003.ome.tiff',\n",
       " '/Volumes/timmy/ding/HTAN/imaging/data/ome-tiff/HTAN HT122P1 S1H4 L1 L4/ROI001_ROI_001/ROI001_ROI_001.ome.tiff',\n",
       " '/Volumes/timmy/ding/HTAN/imaging/data/ome-tiff/HTAN HT122P1 S1H4 L1 L4/ROI002_ROI_002/ROI002_ROI_002.ome.tiff',\n",
       " '/Volumes/timmy/ding/HTAN/imaging/data/ome-tiff/HTAN HT122P1 S1H5 L1 L4/ROI001_ROI_001/ROI001_ROI_001.ome.tiff',\n",
       " '/Volumes/timmy/ding/HTAN/imaging/data/ome-tiff/HTAN HT122P1 S1H5 L1 L4/ROI002_ROI_002/ROI002_ROI_002.ome.tiff',\n",
       " '/Volumes/timmy/ding/HTAN/imaging/data/ome-tiff/HTAN HT122P1 S1H9 L1 L4/ROI001_ROI_001/ROI001_ROI_001.ome.tiff',\n",
       " '/Volumes/timmy/ding/HTAN/imaging/data/ome-tiff/HTAN HT122P1 S1H9 L1 L4/ROI002_ROI_002/ROI002_ROI_002.ome.tiff',\n",
       " '/Volumes/timmy/ding/HTAN/imaging/data/ome-tiff/HTAN HT123P1 S1H1 L1 L4/ROI001_ROI_001/ROI001_ROI_001.ome.tiff',\n",
       " '/Volumes/timmy/ding/HTAN/imaging/data/ome-tiff/HTAN HT123P1 S1H1 L1 L4/ROI002_ROI_002/ROI002_ROI_002.ome.tiff',\n",
       " '/Volumes/timmy/ding/HTAN/imaging/data/ome-tiff/HTAN HT123P1 S1H3 L1 L4/ROI001_ROI_001/ROI001_ROI_001.ome.tiff',\n",
       " '/Volumes/timmy/ding/HTAN/imaging/data/ome-tiff/HTAN HT123P1 S1H3 L1 L4/ROI002_ROI_002/ROI002_ROI_002.ome.tiff',\n",
       " '/Volumes/timmy/ding/HTAN/imaging/data/ome-tiff/HTAN HT123P1 S1H5 L1 L4/ROI001_ROI_001/ROI001_ROI_001.ome.tiff',\n",
       " '/Volumes/timmy/ding/HTAN/imaging/data/ome-tiff/HTAN HT123P1 S1H5 L1 L4/ROI002_ROI_002/ROI002_ROI_002.ome.tiff',\n",
       " '/Volumes/timmy/ding/HTAN/imaging/data/ome-tiff/HTAN HT124P1 S1H1 L1 L4/ROI001_ROI_001/ROI001_ROI_001.ome.tiff',\n",
       " '/Volumes/timmy/ding/HTAN/imaging/data/ome-tiff/HTAN HT124P1 S1H1 L1 L4/ROI002_ROI_002/ROI002_ROI_002.ome.tiff',\n",
       " '/Volumes/timmy/ding/HTAN/imaging/data/ome-tiff/HTAN HT124P1 S1H4 L1 L4/ROI001_ROI_001/ROI001_ROI_001.ome.tiff',\n",
       " '/Volumes/timmy/ding/HTAN/imaging/data/ome-tiff/HTAN HT124P1 S1H4 L1 L4/ROI002_ROI_002/ROI002_ROI_002.ome.tiff',\n",
       " '/Volumes/timmy/ding/HTAN/imaging/data/ome-tiff/HTAN HT124P1 S1H4 L1 L4/ROI003_ROI_003/ROI003_ROI_003.ome.tiff',\n",
       " '/Volumes/timmy/ding/HTAN/imaging/data/ome-tiff/HTAN HT124P1 S1H4 L1 L4/ROI004_ROI_004/ROI004_ROI_004.ome.tiff',\n",
       " '/Volumes/timmy/ding/HTAN/imaging/data/ome-tiff/HTAN HT124P1 S1H4 L1 L4/ROI005_ROI_005/ROI005_ROI_005.ome.tiff',\n",
       " '/Volumes/timmy/ding/HTAN/imaging/data/ome-tiff/HTAN HT124P1S1H2 L1 L4/ROI001_ROI_001/ROI001_ROI_001.ome.tiff',\n",
       " '/Volumes/timmy/ding/HTAN/imaging/data/ome-tiff/HTAN HT124P1S1H2 L1 L4/ROI002_ROI_002/ROI002_ROI_002.ome.tiff',\n",
       " '/Volumes/timmy/ding/HTAN/imaging/data/ome-tiff/HTAN HT166P1 S1H2 L1 L4/ROI001_ROI_001/ROI001_ROI_001.ome.tiff',\n",
       " '/Volumes/timmy/ding/HTAN/imaging/data/ome-tiff/HTAN HT166P1 S1H2 L1 L4/ROI002_ROI_002/ROI002_ROI_002.ome.tiff',\n",
       " '/Volumes/timmy/ding/HTAN/imaging/data/ome-tiff/HTAN HT166P1 S1H5 L4/ROI001_ROI_001/ROI001_ROI_001.ome.tiff',\n",
       " '/Volumes/timmy/ding/HTAN/imaging/data/ome-tiff/HTAN HT166P1 S1H5 L4/ROI002_ROI_002/ROI002_ROI_002.ome.tiff',\n",
       " '/Volumes/timmy/ding/HTAN/imaging/data/ome-tiff/HTAN HT166P1 S1H5 L4/ROI003_ROI_003/ROI003_ROI_003.ome.tiff',\n",
       " '/Volumes/timmy/ding/HTAN/imaging/data/ome-tiff/HTAN HT166P1 S1H6 L1 L4/ROI001_ROI_001/ROI001_ROI_001.ome.tiff',\n",
       " '/Volumes/timmy/ding/HTAN/imaging/data/ome-tiff/HTAN HT166P1 S1H6 L1 L4/ROI002_ROI_002/ROI002_ROI_002.ome.tiff',\n",
       " '/Volumes/timmy/ding/HTAN/imaging/data/ome-tiff/HTAN HT168P1 S1H2 L1 L4/ROI001_ROI_001/ROI001_ROI_001.ome.tiff',\n",
       " '/Volumes/timmy/ding/HTAN/imaging/data/ome-tiff/HTAN HT168P1 S1H2 L1 L4/ROI002_ROI_002/ROI002_ROI_002.ome.tiff',\n",
       " '/Volumes/timmy/ding/HTAN/imaging/data/ome-tiff/HTAN HT168P1 S1H4 L1 L4/ROI001_ROI_001/ROI001_ROI_001.ome.tiff',\n",
       " '/Volumes/timmy/ding/HTAN/imaging/data/ome-tiff/HTAN HT168P1 S1H4 L1 L4/ROI002_ROI_002/ROI002_ROI_002.ome.tiff',\n",
       " '/Volumes/timmy/ding/HTAN/imaging/data/ome-tiff/HTAN HT168P1 S1H4 L1 L4/ROI003_ROI_003/ROI003_ROI_003.ome.tiff',\n",
       " '/Volumes/timmy/ding/HTAN/imaging/data/ome-tiff/human spleen HT093/ROI001_ROI 01/ROI001_ROI 01.ome.tiff',\n",
       " '/Volumes/timmy/ding/HTAN/imaging/data/ome-tiff/human spleen HT093/ROI002_ROI 02/ROI002_ROI 02.ome.tiff',\n",
       " '/Volumes/timmy/ding/HTAN/imaging/data/ome-tiff/human spleen HT093/ROI003_ROI 03/ROI003_ROI 03.ome.tiff']"
      ]
     },
     "execution_count": 18,
     "metadata": {},
     "output_type": "execute_result"
    }
   ],
   "source": [
    "fps"
   ]
  },
  {
   "cell_type": "code",
   "execution_count": 19,
   "metadata": {},
   "outputs": [],
   "source": [
    "for fp in fps:\n",
    "    pieces = fp.split('/')\n",
    "    sample = pieces[-3].replace(' ', '_')\n",
    "    roi = pieces[-1][:-4].split('_')[-1].replace(' ', '_')\n",
    "    new_fp = os.path.join(target_dir, f'{sample}_{roi}tiff')\n",
    "#     print(new_fp)\n",
    "    shutil.copy(fp, new_fp)"
   ]
  },
  {
   "cell_type": "code",
   "execution_count": null,
   "metadata": {},
   "outputs": [],
   "source": []
  }
 ],
 "metadata": {
  "kernelspec": {
   "display_name": "Python 3",
   "language": "python",
   "name": "python3"
  },
  "language_info": {
   "codemirror_mode": {
    "name": "ipython",
    "version": 3
   },
   "file_extension": ".py",
   "mimetype": "text/x-python",
   "name": "python",
   "nbconvert_exporter": "python",
   "pygments_lexer": "ipython3",
   "version": "3.6.7"
  }
 },
 "nbformat": 4,
 "nbformat_minor": 4
}
