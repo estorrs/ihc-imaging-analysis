{
 "cells": [
  {
   "cell_type": "code",
   "execution_count": 5,
   "metadata": {},
   "outputs": [],
   "source": [
    "from pathlib import Path\n",
    "import os\n",
    "import re\n",
    "import shutil\n",
    "\n",
    "import mgitools.os_helpers as os_helpers"
   ]
  },
  {
   "cell_type": "code",
   "execution_count": 6,
   "metadata": {},
   "outputs": [],
   "source": [
    "ome_dir = '/Volumes/timmy/ding/HTAN/imaging/data/09142020_images/ome_tiff_32bit/'\n",
    "target_dir = '/Volumes/timmy/ding/HTAN/imaging/data/ome_tiff_individual_32bit/b3'\n",
    "\n",
    "Path(target_dir).mkdir(parents=True, exist_ok=True)"
   ]
  },
  {
   "cell_type": "code",
   "execution_count": 11,
   "metadata": {},
   "outputs": [
    {
     "data": {
      "text/plain": [
       "(19,\n",
       " ['/Volumes/timmy/ding/HTAN/imaging/data/09142020_images/ome_tiff_32bit/HT122P1 S1H3 L1 L4 090320/ROI001_ROI_1_L1/ROI001_ROI_1_L1.ome.tiff',\n",
       "  '/Volumes/timmy/ding/HTAN/imaging/data/09142020_images/ome_tiff_32bit/HT122P1 S1H3 L1 L4 090320/ROI002_ROI_002/ROI002_ROI_002.ome.tiff',\n",
       "  '/Volumes/timmy/ding/HTAN/imaging/data/09142020_images/ome_tiff_32bit/HT122P1 S1H4 090320/ROI001_ROI_001/ROI001_ROI_001.ome.tiff',\n",
       "  '/Volumes/timmy/ding/HTAN/imaging/data/09142020_images/ome_tiff_32bit/HT122P1 S1H4 090320/ROI002_ROI_002/ROI002_ROI_002.ome.tiff',\n",
       "  '/Volumes/timmy/ding/HTAN/imaging/data/09142020_images/ome_tiff_32bit/HT122P1 S1H5 090320/ROI001_ROI_L1/ROI001_ROI_L1.ome.tiff'])"
      ]
     },
     "execution_count": 11,
     "metadata": {},
     "output_type": "execute_result"
    }
   ],
   "source": [
    "fps = sorted(os_helpers.listfiles(ome_dir, regex='ome.tiff$'))\n",
    "len(fps), fps[:5]"
   ]
  },
  {
   "cell_type": "code",
   "execution_count": 12,
   "metadata": {
    "scrolled": true
   },
   "outputs": [
    {
     "data": {
      "text/plain": [
       "['/Volumes/timmy/ding/HTAN/imaging/data/09142020_images/ome_tiff_32bit/HT122P1 S1H3 L1 L4 090320/ROI001_ROI_1_L1/ROI001_ROI_1_L1.ome.tiff',\n",
       " '/Volumes/timmy/ding/HTAN/imaging/data/09142020_images/ome_tiff_32bit/HT122P1 S1H3 L1 L4 090320/ROI002_ROI_002/ROI002_ROI_002.ome.tiff',\n",
       " '/Volumes/timmy/ding/HTAN/imaging/data/09142020_images/ome_tiff_32bit/HT122P1 S1H4 090320/ROI001_ROI_001/ROI001_ROI_001.ome.tiff',\n",
       " '/Volumes/timmy/ding/HTAN/imaging/data/09142020_images/ome_tiff_32bit/HT122P1 S1H4 090320/ROI002_ROI_002/ROI002_ROI_002.ome.tiff',\n",
       " '/Volumes/timmy/ding/HTAN/imaging/data/09142020_images/ome_tiff_32bit/HT122P1 S1H5 090320/ROI001_ROI_L1/ROI001_ROI_L1.ome.tiff',\n",
       " '/Volumes/timmy/ding/HTAN/imaging/data/09142020_images/ome_tiff_32bit/HT122P1 S1H5 090320/ROI002_ROI_L4/ROI002_ROI_L4.ome.tiff',\n",
       " '/Volumes/timmy/ding/HTAN/imaging/data/09142020_images/ome_tiff_32bit/HT122P1 S1H9 090320/ROI001_ROI_L1/ROI001_ROI_L1.ome.tiff',\n",
       " '/Volumes/timmy/ding/HTAN/imaging/data/09142020_images/ome_tiff_32bit/HT122P1 S1H9 090320/ROI002_ROI_L4/ROI002_ROI_L4.ome.tiff',\n",
       " '/Volumes/timmy/ding/HTAN/imaging/data/09142020_images/ome_tiff_32bit/HT123P1 S1H5 091120/ROI001_ROI_L1/ROI001_ROI_L1.ome.tiff',\n",
       " '/Volumes/timmy/ding/HTAN/imaging/data/09142020_images/ome_tiff_32bit/HT123P1 S1H5 091120/ROI002_ROI_L4/ROI002_ROI_L4.ome.tiff',\n",
       " '/Volumes/timmy/ding/HTAN/imaging/data/09142020_images/ome_tiff_32bit/HT168P1 S1H2/ROI001_ROI_L1/ROI001_ROI_L1.ome.tiff',\n",
       " '/Volumes/timmy/ding/HTAN/imaging/data/09142020_images/ome_tiff_32bit/HT168P1 S1H2/ROI002_ROI_L4/ROI002_ROI_L4.ome.tiff',\n",
       " '/Volumes/timmy/ding/HTAN/imaging/data/09142020_images/ome_tiff_32bit/HT168P1 S1H3 091420/ROI001_ROI_L1/ROI001_ROI_L1.ome.tiff',\n",
       " '/Volumes/timmy/ding/HTAN/imaging/data/09142020_images/ome_tiff_32bit/HT168P1 S1H3 091420/ROI002_ROI_L4/ROI002_ROI_L4.ome.tiff',\n",
       " '/Volumes/timmy/ding/HTAN/imaging/data/09142020_images/ome_tiff_32bit/HT168P1 S1H3 091420/ROI003_ROI_L1 full/ROI003_ROI_L1 full.ome.tiff',\n",
       " '/Volumes/timmy/ding/HTAN/imaging/data/09142020_images/ome_tiff_32bit/HT168P1 S1H4 091420/ROI001_ROI_001/ROI001_ROI_001.ome.tiff',\n",
       " '/Volumes/timmy/ding/HTAN/imaging/data/09142020_images/ome_tiff_32bit/HT168P1 S1H4 091420/ROI002_ROI_002/ROI002_ROI_002.ome.tiff',\n",
       " '/Volumes/timmy/ding/HTAN/imaging/data/09142020_images/ome_tiff_32bit/Human spleen 091120/ROI001_ROI_001/ROI001_ROI_001.ome.tiff',\n",
       " '/Volumes/timmy/ding/HTAN/imaging/data/09142020_images/ome_tiff_32bit/JH hu spleen 090320/ROI001_ROI_001/ROI001_ROI_001.ome.tiff']"
      ]
     },
     "execution_count": 12,
     "metadata": {},
     "output_type": "execute_result"
    }
   ],
   "source": [
    "fps"
   ]
  },
  {
   "cell_type": "code",
   "execution_count": 18,
   "metadata": {},
   "outputs": [
    {
     "name": "stdout",
     "output_type": "stream",
     "text": [
      "/Volumes/timmy/ding/HTAN/imaging/data/ome_tiff_individual_32bit/b3/HT122P1_S1H3_L1_L4_090320_ROI001.ome.tiff\n",
      "/Volumes/timmy/ding/HTAN/imaging/data/ome_tiff_individual_32bit/b3/HT122P1_S1H3_L1_L4_090320_ROI002.ome.tiff\n",
      "/Volumes/timmy/ding/HTAN/imaging/data/ome_tiff_individual_32bit/b3/HT122P1_S1H4_090320_ROI001.ome.tiff\n",
      "/Volumes/timmy/ding/HTAN/imaging/data/ome_tiff_individual_32bit/b3/HT122P1_S1H4_090320_ROI002.ome.tiff\n",
      "/Volumes/timmy/ding/HTAN/imaging/data/ome_tiff_individual_32bit/b3/HT122P1_S1H5_090320_ROI001.ome.tiff\n",
      "/Volumes/timmy/ding/HTAN/imaging/data/ome_tiff_individual_32bit/b3/HT122P1_S1H5_090320_ROI002.ome.tiff\n",
      "/Volumes/timmy/ding/HTAN/imaging/data/ome_tiff_individual_32bit/b3/HT122P1_S1H9_090320_ROI001.ome.tiff\n",
      "/Volumes/timmy/ding/HTAN/imaging/data/ome_tiff_individual_32bit/b3/HT122P1_S1H9_090320_ROI002.ome.tiff\n",
      "/Volumes/timmy/ding/HTAN/imaging/data/ome_tiff_individual_32bit/b3/HT123P1_S1H5_091120_ROI001.ome.tiff\n",
      "/Volumes/timmy/ding/HTAN/imaging/data/ome_tiff_individual_32bit/b3/HT123P1_S1H5_091120_ROI002.ome.tiff\n",
      "/Volumes/timmy/ding/HTAN/imaging/data/ome_tiff_individual_32bit/b3/HT168P1_S1H2_ROI001.ome.tiff\n",
      "/Volumes/timmy/ding/HTAN/imaging/data/ome_tiff_individual_32bit/b3/HT168P1_S1H2_ROI002.ome.tiff\n",
      "/Volumes/timmy/ding/HTAN/imaging/data/ome_tiff_individual_32bit/b3/HT168P1_S1H3_091420_ROI001.ome.tiff\n",
      "/Volumes/timmy/ding/HTAN/imaging/data/ome_tiff_individual_32bit/b3/HT168P1_S1H3_091420_ROI002.ome.tiff\n",
      "/Volumes/timmy/ding/HTAN/imaging/data/ome_tiff_individual_32bit/b3/HT168P1_S1H3_091420_ROI003.ome.tiff\n",
      "/Volumes/timmy/ding/HTAN/imaging/data/ome_tiff_individual_32bit/b3/HT168P1_S1H4_091420_ROI001.ome.tiff\n",
      "/Volumes/timmy/ding/HTAN/imaging/data/ome_tiff_individual_32bit/b3/HT168P1_S1H4_091420_ROI002.ome.tiff\n",
      "/Volumes/timmy/ding/HTAN/imaging/data/ome_tiff_individual_32bit/b3/Human_spleen_091120_ROI001.ome.tiff\n",
      "/Volumes/timmy/ding/HTAN/imaging/data/ome_tiff_individual_32bit/b3/JH_hu_spleen_090320_ROI001.ome.tiff\n"
     ]
    }
   ],
   "source": [
    "for fp in fps:\n",
    "    pieces = fp.split('/')\n",
    "#     sample = pieces[-3].replace(' ', '_')\n",
    "#     roi = pieces[-1][:-4].split('_')[-1].replace(' ', '_')\n",
    "    sample = pieces[-3].replace(' ', '_')\n",
    "    roi = pieces[-2].split('_')[0].replace(' ', '_')\n",
    "    new_fp = os.path.join(target_dir, f'{sample}_{roi}.ome.tiff')\n",
    "    print(new_fp)\n",
    "    shutil.copy(fp, new_fp)"
   ]
  },
  {
   "cell_type": "code",
   "execution_count": null,
   "metadata": {},
   "outputs": [],
   "source": []
  }
 ],
 "metadata": {
  "kernelspec": {
   "display_name": "Python 3",
   "language": "python",
   "name": "python3"
  },
  "language_info": {
   "codemirror_mode": {
    "name": "ipython",
    "version": 3
   },
   "file_extension": ".py",
   "mimetype": "text/x-python",
   "name": "python",
   "nbconvert_exporter": "python",
   "pygments_lexer": "ipython3",
   "version": "3.7.1"
  }
 },
 "nbformat": 4,
 "nbformat_minor": 4
}
